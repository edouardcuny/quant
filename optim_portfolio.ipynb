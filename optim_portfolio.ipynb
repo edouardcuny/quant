{
 "cells": [
  {
   "cell_type": "code",
   "execution_count": 284,
   "metadata": {
    "collapsed": true
   },
   "outputs": [],
   "source": [
    "import pandas as pd\n",
    "import numpy as np"
   ]
  },
  {
   "cell_type": "markdown",
   "metadata": {},
   "source": [
    "# OBJECTIF\n",
    "\n",
    "On se place dans le cas de figure où on veut construire un portefeuille à partir de 4 actifs : \n",
    "- Google\n",
    "- Apple\n",
    "- Gold\n",
    "- Exxon\n",
    "\n",
    "Comment répartir notre portefeuille entre ces 4 actifs ? <br>\n",
    "Nous choisissons d'optimiser le Sharpe ratio sur une période donnée. <br>\n",
    "Le but est de se familiariser avec la manipulation de données financières, le Sharpe ratio et de relancer un peu la machine."
   ]
  },
  {
   "cell_type": "markdown",
   "metadata": {},
   "source": [
    "# IMPORTATION DES DONNEES\n",
    "Les csv sont obtenus depuis Yahoo Finance."
   ]
  },
  {
   "cell_type": "code",
   "execution_count": 285,
   "metadata": {
    "collapsed": true
   },
   "outputs": [],
   "source": [
    "def get_data_frame(TICKER):\n",
    "    '''\n",
    "    Returns a pd.Series w/ dates from 1/1/2010 to 12/31/2014 as index and Close price \n",
    "    for stock 'TICKER' as lone column\n",
    "    '''\n",
    "    \n",
    "    path = \"/Users/edouardcuny/Downloads/\" + TICKER + \".csv\"\n",
    "    df = pd.read_csv(path)\n",
    "    df = df.set_index('Date')\n",
    "    dates = pd.DataFrame(index=pd.date_range(start=\"1/1/2010\", end=\"12/31/2010\"))\n",
    "    df = dates.join(df)\n",
    "    df = df['Close']\n",
    "    df = df.rename(TICKER)\n",
    "    return df\n",
    "    "
   ]
  },
  {
   "cell_type": "code",
   "execution_count": 297,
   "metadata": {},
   "outputs": [],
   "source": [
    "xom = get_data_frame('XOM')\n",
    "aapl = get_data_frame('AAPL')\n",
    "goog = get_data_frame('GOOGL')\n",
    "gld = get_data_frame('GLD')\n",
    "spy = get_data_frame('SPY')"
   ]
  },
  {
   "cell_type": "markdown",
   "metadata": {},
   "source": [
    "## COMPLETION DES DONNES\n",
    "Il n'y a que 252 jours (en moyenne) de trading par an, il faut donc compléter les jours manquants. <br>\n",
    "\n",
    "Est-ce toutefois bien nécessaire ? La réponse est à examiner pour plus tard (cela change-t-il grand chose si je ne change rien?)."
   ]
  },
  {
   "cell_type": "code",
   "execution_count": 298,
   "metadata": {
    "collapsed": true
   },
   "outputs": [],
   "source": [
    "df = pd.concat([xom,aapl,goog,gld], axis=1)\n",
    "df = df.fillna(method='ffill')\n",
    "df = df.fillna(method='backfill')"
   ]
  },
  {
   "cell_type": "code",
   "execution_count": 299,
   "metadata": {},
   "outputs": [
    {
     "data": {
      "text/html": [
       "<div>\n",
       "<style>\n",
       "    .dataframe thead tr:only-child th {\n",
       "        text-align: right;\n",
       "    }\n",
       "\n",
       "    .dataframe thead th {\n",
       "        text-align: left;\n",
       "    }\n",
       "\n",
       "    .dataframe tbody tr th {\n",
       "        vertical-align: top;\n",
       "    }\n",
       "</style>\n",
       "<table border=\"1\" class=\"dataframe\">\n",
       "  <thead>\n",
       "    <tr style=\"text-align: right;\">\n",
       "      <th></th>\n",
       "      <th>XOM</th>\n",
       "      <th>AAPL</th>\n",
       "      <th>GOOGL</th>\n",
       "      <th>GLD</th>\n",
       "    </tr>\n",
       "  </thead>\n",
       "  <tbody>\n",
       "    <tr>\n",
       "      <th>2010-01-01</th>\n",
       "      <td>69.150002</td>\n",
       "      <td>30.572857</td>\n",
       "      <td>311.349976</td>\n",
       "      <td>109.800003</td>\n",
       "    </tr>\n",
       "    <tr>\n",
       "      <th>2010-01-02</th>\n",
       "      <td>69.150002</td>\n",
       "      <td>30.572857</td>\n",
       "      <td>311.349976</td>\n",
       "      <td>109.800003</td>\n",
       "    </tr>\n",
       "    <tr>\n",
       "      <th>2010-01-03</th>\n",
       "      <td>69.150002</td>\n",
       "      <td>30.572857</td>\n",
       "      <td>311.349976</td>\n",
       "      <td>109.800003</td>\n",
       "    </tr>\n",
       "    <tr>\n",
       "      <th>2010-01-04</th>\n",
       "      <td>69.150002</td>\n",
       "      <td>30.572857</td>\n",
       "      <td>311.349976</td>\n",
       "      <td>109.800003</td>\n",
       "    </tr>\n",
       "    <tr>\n",
       "      <th>2010-01-05</th>\n",
       "      <td>69.419998</td>\n",
       "      <td>30.625713</td>\n",
       "      <td>309.978882</td>\n",
       "      <td>109.699997</td>\n",
       "    </tr>\n",
       "    <tr>\n",
       "      <th>2010-01-06</th>\n",
       "      <td>70.019997</td>\n",
       "      <td>30.138571</td>\n",
       "      <td>302.164703</td>\n",
       "      <td>111.510002</td>\n",
       "    </tr>\n",
       "    <tr>\n",
       "      <th>2010-01-07</th>\n",
       "      <td>69.800003</td>\n",
       "      <td>30.082857</td>\n",
       "      <td>295.130463</td>\n",
       "      <td>110.820000</td>\n",
       "    </tr>\n",
       "    <tr>\n",
       "      <th>2010-01-08</th>\n",
       "      <td>69.519997</td>\n",
       "      <td>30.282858</td>\n",
       "      <td>299.064880</td>\n",
       "      <td>111.370003</td>\n",
       "    </tr>\n",
       "    <tr>\n",
       "      <th>2010-01-09</th>\n",
       "      <td>69.519997</td>\n",
       "      <td>30.282858</td>\n",
       "      <td>299.064880</td>\n",
       "      <td>111.370003</td>\n",
       "    </tr>\n",
       "    <tr>\n",
       "      <th>2010-01-10</th>\n",
       "      <td>69.519997</td>\n",
       "      <td>30.282858</td>\n",
       "      <td>299.064880</td>\n",
       "      <td>111.370003</td>\n",
       "    </tr>\n",
       "  </tbody>\n",
       "</table>\n",
       "</div>"
      ],
      "text/plain": [
       "                  XOM       AAPL       GOOGL         GLD\n",
       "2010-01-01  69.150002  30.572857  311.349976  109.800003\n",
       "2010-01-02  69.150002  30.572857  311.349976  109.800003\n",
       "2010-01-03  69.150002  30.572857  311.349976  109.800003\n",
       "2010-01-04  69.150002  30.572857  311.349976  109.800003\n",
       "2010-01-05  69.419998  30.625713  309.978882  109.699997\n",
       "2010-01-06  70.019997  30.138571  302.164703  111.510002\n",
       "2010-01-07  69.800003  30.082857  295.130463  110.820000\n",
       "2010-01-08  69.519997  30.282858  299.064880  111.370003\n",
       "2010-01-09  69.519997  30.282858  299.064880  111.370003\n",
       "2010-01-10  69.519997  30.282858  299.064880  111.370003"
      ]
     },
     "execution_count": 299,
     "metadata": {},
     "output_type": "execute_result"
    }
   ],
   "source": [
    "df.head(10)"
   ]
  },
  {
   "cell_type": "markdown",
   "metadata": {},
   "source": [
    "# EVOLUTION D'UN PORTFOLIO"
   ]
  },
  {
   "cell_type": "code",
   "execution_count": 300,
   "metadata": {},
   "outputs": [
    {
     "name": "stdout",
     "output_type": "stream",
     "text": [
      "                   XOM        AAPL       GOOGL         GLD        TOTAL\n",
      "2010-01-01  250.000000  250.000000  250.000000  250.000000  1000.000000\n",
      "2010-01-02  250.000000  250.000000  250.000000  250.000000  1000.000000\n",
      "2010-01-03  250.000000  250.000000  250.000000  250.000000  1000.000000\n",
      "2010-01-04  250.000000  250.000000  250.000000  250.000000  1000.000000\n",
      "2010-01-05  250.976124  250.432213  248.899073  249.772300  1000.079711\n",
      "2010-01-06  253.145318  246.448762  242.624640  253.893440   996.112160\n",
      "2010-01-07  252.349967  245.993178  236.976462  252.322397   987.642005\n",
      "2010-01-08  251.337654  247.628624  240.135622  253.574681   992.676580\n",
      "2010-01-09  251.337654  247.628624  240.135622  253.574681   992.676580\n",
      "2010-01-10  251.337654  247.628624  240.135622  253.574681   992.676580\n"
     ]
    }
   ],
   "source": [
    "# PORTFOLIO\n",
    "allocation = [0.25, 0.25, 0.25, 0.25]\n",
    "funds = 1000\n",
    "\n",
    "def portfolio_evolution(allocation,funds,df):\n",
    "    df_2 = df.apply(lambda x: x/x[0]) # normalisation\n",
    "    df_2 = df_2*allocation\n",
    "    df_2 = df_2*funds\n",
    "    df_2['TOTAL']=df_2.sum(axis=1)\n",
    "    return df_2\n",
    "\n",
    "print portfolio_evolution(allocation,funds,df).head(10)"
   ]
  },
  {
   "cell_type": "markdown",
   "metadata": {},
   "source": [
    "# SHARPE"
   ]
  },
  {
   "cell_type": "code",
   "execution_count": 301,
   "metadata": {},
   "outputs": [],
   "source": [
    "def sharpe(alloc,df):\n",
    "    '''\n",
    "    Returns the Sharpe ratio of an allocation\n",
    "    alloc is a list \n",
    "    '''\n",
    "    #print df.head(5)\n",
    "\n",
    "    df_2 = df.apply(lambda x: x/x[0]) # normalisation\n",
    "    #print df_2.head(5)\n",
    "    \n",
    "    df_2 = df_2*alloc\n",
    "    #print df_2.head(5)\n",
    "    \n",
    "    df_2['TOTAL']=df_2.sum(axis=1)\n",
    "    #print df_2.head(5)\n",
    "    \n",
    "    daily_returns = (df_2['TOTAL']/df_2['TOTAL'].shift(1)-1)*100\n",
    "    daily_returns[0]=0\n",
    "    \n",
    "    return np.sqrt(252)*daily_returns.mean()/daily_returns.std(ddof=0)    "
   ]
  },
  {
   "cell_type": "code",
   "execution_count": 302,
   "metadata": {
    "collapsed": true
   },
   "outputs": [],
   "source": [
    "def test_sharpe():\n",
    "    X = pd.DataFrame([1,2])\n",
    "    daily_returns_X = [0,100]\n",
    "    if sharpe([1],X) == np.sqrt(252)*np.mean(daily_returns_X)/np.std(daily_returns_X):\n",
    "        print \"all is good\"\n",
    "    else:\n",
    "        print \"sharpe : \", sharpe([1],X)\n",
    "        print \"theoretical sharpe : \", np.sqrt(252)*np.mean(daily_returns_X)/np.std(daily_returns_X)\n",
    "    \n",
    "    "
   ]
  },
  {
   "cell_type": "code",
   "execution_count": 303,
   "metadata": {},
   "outputs": [
    {
     "name": "stdout",
     "output_type": "stream",
     "text": [
      "all is good\n"
     ]
    }
   ],
   "source": [
    "test_sharpe()"
   ]
  },
  {
   "cell_type": "markdown",
   "metadata": {},
   "source": [
    "# SPY\n",
    "On compare nos stratégies de portfolio par rapport à l'ETF SPY buy & hold."
   ]
  },
  {
   "cell_type": "code",
   "execution_count": 304,
   "metadata": {},
   "outputs": [],
   "source": [
    "spy = spy.fillna(method='ffill')\n",
    "spy = spy.fillna(method='backfill')\n",
    "spy_2 = spy/spy[0] # normalisation\n",
    "spy_2 = spy_2*funds"
   ]
  },
  {
   "cell_type": "markdown",
   "metadata": {},
   "source": [
    "# OPTIMISATION DU PORTEFEUILLE "
   ]
  },
  {
   "cell_type": "code",
   "execution_count": 305,
   "metadata": {},
   "outputs": [
    {
     "data": {
      "text/plain": [
       "     fun: -1.635007580613583\n",
       "     jac: array([  5.34074947e-01,   1.58028305e-03,   1.32719313e+00,\n",
       "        -1.14428997e-03])\n",
       " message: 'Optimization terminated successfully.'\n",
       "    nfev: 26\n",
       "     nit: 4\n",
       "    njev: 4\n",
       "  status: 0\n",
       " success: True\n",
       "       x: array([  0.00000000e+00,   4.19223246e-01,   3.49682000e-16,\n",
       "         5.80776754e-01])"
      ]
     },
     "execution_count": 305,
     "metadata": {},
     "output_type": "execute_result"
    }
   ],
   "source": [
    "from scipy.optimize import minimize\n",
    "minimize(lambda x: -sharpe(x,df), [0.25,0.25,0.25,0.25], \n",
    "         bounds=[(0,1),(0,1),(0,1),(0,1)], \n",
    "         constraints={'type':'eq', 'fun': lambda x: sum(x)-1})"
   ]
  },
  {
   "cell_type": "code",
   "execution_count": 306,
   "metadata": {},
   "outputs": [
    {
     "name": "stdout",
     "output_type": "stream",
     "text": [
      "0.962983518343\n",
      "0.55247244161\n",
      "0.628979639526\n",
      "1.63423727199\n"
     ]
    }
   ],
   "source": [
    "print sharpe([0.25,0.25,0.25,0.25],df)\n",
    "print sharpe([0,0,0.5,0.5],df)\n",
    "print sharpe([0.1,0.2,0.5,0.2],df)\n",
    "print sharpe([0,0.4,0,0.6],df)"
   ]
  },
  {
   "cell_type": "markdown",
   "metadata": {},
   "source": [
    "On retrouve bien les résultats du cours sur Udacity !"
   ]
  },
  {
   "cell_type": "markdown",
   "metadata": {},
   "source": [
    "# PLOT DES COURBES"
   ]
  },
  {
   "cell_type": "code",
   "execution_count": 314,
   "metadata": {},
   "outputs": [
    {
     "data": {
      "image/png": "[encoded data removed]",
      "text/plain": [
       "<matplotlib.figure.Figure at 0x110075c90>"
      ]
     },
     "metadata": {},
     "output_type": "display_data"
    }
   ],
   "source": [
    "import matplotlib.pyplot as plt\n",
    "spy_portfolio_ts = portfolio_evolution([1],1000,pd.DataFrame(spy))\n",
    "sharpe_optim_portolio_ts = portfolio_evolution([0,0.4,0,0.6],1000,df)\n",
    "plt.close()\n",
    "plt.plot(spy_portfolio_ts['TOTAL'], label='SPY')\n",
    "plt.plot(sharpe_optim_portolio_ts['TOTAL'], label='OPTIMAL SHARPE')\n",
    "plt.legend()\n",
    "plt.show()"
   ]
  },
  {
   "cell_type": "markdown",
   "metadata": {},
   "source": [
    "## NEXT STEPS\n",
    "- essayer en se fichant des jours de trade ou pas \n",
    "- regarder comment la stratégie évolue au delà de l'année 2010 sur laquelle on a entraîné notre modèle (validation)"
   ]
  },
  {
   "cell_type": "code",
   "execution_count": null,
   "metadata": {
    "collapsed": true
   },
   "outputs": [],
   "source": []
  }
 ],
 "metadata": {
  "kernelspec": {
   "display_name": "Python 2",
   "language": "python",
   "name": "python2"
  },
  "language_info": {
   "codemirror_mode": {
    "name": "ipython",
    "version": 2
   },
   "file_extension": ".py",
   "mimetype": "text/x-python",
   "name": "python",
   "nbconvert_exporter": "python",
   "pygments_lexer": "ipython2",
   "version": "2.7.10"
  }
 },
 "nbformat": 4,
 "nbformat_minor": 2
}
