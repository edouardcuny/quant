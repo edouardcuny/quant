{
 "cells": [
  {
   "cell_type": "code",
   "execution_count": 2,
   "metadata": {},
   "outputs": [
    {
     "name": "stdout",
     "output_type": "stream",
     "text": [
      "Populating the interactive namespace from numpy and matplotlib\n"
     ]
    }
   ],
   "source": [
    "import pandas as pd\n",
    "import numpy as np\n",
    "import matplotlib.pyplot as plt\n",
    "import matplotlib\n",
    "\n",
    "# setting plot size\n",
    "%pylab inline\n",
    "pylab.rcParams['figure.figsize'] = (16, 9)"
   ]
  },
  {
   "cell_type": "code",
   "execution_count": 72,
   "metadata": {},
   "outputs": [
    {
     "data": {
      "text/plain": [
       "<matplotlib.figure.Figure at 0x119578c10>"
      ]
     },
     "metadata": {},
     "output_type": "display_data"
    }
   ],
   "source": [
    "%run ./feature_engineering.py\n",
    "%run ./utils.py\n",
    "%run ./portfolio.py"
   ]
  },
  {
   "cell_type": "markdown",
   "metadata": {},
   "source": [
    "# 1. ALL DATA"
   ]
  },
  {
   "cell_type": "markdown",
   "metadata": {},
   "source": [
    "## 1.0. IMPORTING/CLEANING DATA"
   ]
  },
  {
   "cell_type": "markdown",
   "metadata": {},
   "source": [
    "Importing data from the data folder."
   ]
  },
  {
   "cell_type": "code",
   "execution_count": null,
   "metadata": {
    "collapsed": true
   },
   "outputs": [],
   "source": [
    "import os\n",
    "\n",
    "start = time.time()\n",
    "\n",
    "# get the list of all the files in the data folder\n",
    "tickers = os.listdir(\"/Users/edouardcuny/Desktop/quant/Carmela/data2/\")\n",
    "l = []\n",
    "# iterate through the files and build those who have csv in their name\n",
    "for ticker in tickers:\n",
    "    if 'csv' in ticker:\n",
    "        df = build_df(ticker)\n",
    "        l.append(df)"
   ]
  },
  {
   "cell_type": "markdown",
   "metadata": {},
   "source": [
    "Conctenating and cleaning the data."
   ]
  },
  {
   "cell_type": "code",
   "execution_count": 5,
   "metadata": {
    "collapsed": true
   },
   "outputs": [
    {
     "name": "stdout",
     "output_type": "stream",
     "text": [
      "AC - dropped NA : 4653 >> 4613\n",
      "ACA - dropped NA : 4144 >> 4120\n",
      "AI - dropped NA : 4653 >> 4616\n",
      "AIR - dropped NA : 4218 >> 4187\n",
      "ATO - dropped NA : 4653 >> 4614\n",
      "BN - dropped NA : 7513 >> 6585\n",
      "BNP - dropped NA : 6273 >> 5773\n",
      "CA - dropped NA : 4653 >> 4616\n"
     ]
    },
    {
     "name": "stderr",
     "output_type": "stream",
     "text": [
      "/Users/edouardcuny/Desktop/quant/Carmela/feature_engineering.py:253: RuntimeWarning: Mean of empty slice.\n",
      "  fup = lambda x : x[x>0].mean()\n"
     ]
    },
    {
     "name": "stdout",
     "output_type": "stream",
     "text": [
      "CAP - dropped NA : 4653 >> 4608\n",
      "DG - dropped NA : 4653 >> 4613\n",
      "EI - dropped NA : 4653 >> 4600\n"
     ]
    },
    {
     "name": "stderr",
     "output_type": "stream",
     "text": [
      "/Users/edouardcuny/Desktop/quant/Carmela/feature_engineering.py:254: RuntimeWarning: Mean of empty slice.\n",
      "  fdown = lambda x : np.abs(x[x<0].mean())\n"
     ]
    },
    {
     "name": "stdout",
     "output_type": "stream",
     "text": [
      "EN - dropped NA : 6998 >> 6625\n",
      "ENGI - dropped NA : 4653 >> 4447\n",
      "FP - dropped NA : 4653 >> 4613\n",
      "FR - dropped NA : 4652 >> 2231\n",
      "GLE - dropped NA : 4653 >> 4615\n",
      "KER - dropped NA : 4653 >> 4483\n",
      "LHN - dropped NA : 656 >> 656\n",
      "LR - dropped NA : 3019 >> 3016\n",
      "MC - dropped NA : 4653 >> 4609\n",
      "ML - dropped NA : 4653 >> 4615\n",
      "OR - dropped NA : 4653 >> 4610\n",
      "ORA - dropped NA : 4653 >> 4615\n",
      "SAN - dropped NA : 4653 >> 4607\n",
      "SGO - dropped NA : 4642 >> 3805\n",
      "SU - dropped NA : 4653 >> 4614\n",
      "SW - dropped NA : 22 >> 22\n",
      "UG - dropped NA : 4653 >> 4610\n",
      "VIE - dropped NA : 4510 >> 4471\n",
      "VIV - dropped NA : 4653 >> 4614\n",
      "\n",
      "temps de création du DataFrame : 66.0\n"
     ]
    }
   ],
   "source": [
    "# concatenation\n",
    "df = pd.concat(l, axis=0)\n",
    "# df.to_csv(\"/Users/edouardcuny/Desktop/stocks.csv\") \n",
    "\n",
    "# removing rows w/ infinite \n",
    "df.replace([np.inf, -np.inf], np.nan,inplace=True)\n",
    "\n",
    "# removing rows w/ NaN \n",
    "df.dropna(inplace=True)\n",
    "\n",
    "stop = time.time()\n",
    "print\n",
    "print 'temps de création du DataFrame : ' + str(round(stop - start))"
   ]
  },
  {
   "cell_type": "markdown",
   "metadata": {},
   "source": [
    "## 1.1. ML"
   ]
  },
  {
   "cell_type": "markdown",
   "metadata": {},
   "source": [
    "- Splitting Train & Test \n",
    "- We also do a copy of X_test for the backtesting. Basically for the backtesting we need a DataFrame on which we can do the ML (same columns as X_Train + same rescaling) and also a column with the Ticker and a column with the Adjusted Close. The easiest way to do so is to take X_test before we delete the Ticker and Adjusted Close columns."
   ]
  },
  {
   "cell_type": "code",
   "execution_count": 14,
   "metadata": {},
   "outputs": [
    {
     "name": "stdout",
     "output_type": "stream",
     "text": [
      "dropped extreme values : 126954 >> 126954\n",
      "dropped NA : 126954 >> 126954\n"
     ]
    }
   ],
   "source": [
    "X_train,X_test,Y_train,Y_test = split_train_test(df,date=\"2012-12-31\")\n",
    "\n",
    "# useful later \n",
    "df_backtest = X_test.copy()"
   ]
  },
  {
   "cell_type": "markdown",
   "metadata": {},
   "source": [
    "We drop useless columns for machine learning."
   ]
  },
  {
   "cell_type": "code",
   "execution_count": 15,
   "metadata": {},
   "outputs": [],
   "source": [
    "to_drop = []\n",
    "to_drop.append('rolling_mean')\n",
    "to_drop.append('Adj Close')\n",
    "to_drop.append('vol_rolling_mean')\n",
    "to_drop.append('Ticker')\n",
    "\n",
    "X_train.drop(to_drop,axis=1,inplace=True)\n",
    "X_test.drop(to_drop,axis=1,inplace=True)"
   ]
  },
  {
   "cell_type": "markdown",
   "metadata": {},
   "source": [
    "- import the model from sklearn\n",
    "- train\n",
    "- predict on X_test"
   ]
  },
  {
   "cell_type": "code",
   "execution_count": 16,
   "metadata": {
    "collapsed": true
   },
   "outputs": [],
   "source": [
    "from sklearn.ensemble import RandomForestClassifier\n",
    "clf = RandomForestClassifier(random_state=7)\n",
    "clf.fit(X_train,Y_train)\n",
    "Y_pred = pd.Series(clf.predict(X_test))\n",
    "Y_pred.index = Y_test.index"
   ]
  },
  {
   "cell_type": "markdown",
   "metadata": {},
   "source": [
    "## 1.2. RESULTS"
   ]
  },
  {
   "cell_type": "code",
   "execution_count": 17,
   "metadata": {},
   "outputs": [
    {
     "name": "stdout",
     "output_type": "stream",
     "text": [
      "17298\n",
      "35289\n",
      "0.490181076256\n",
      "\n",
      "14051\n",
      "35289\n",
      "0.39816940123\n",
      "\n",
      "accuracy : 0.431550908215\n"
     ]
    }
   ],
   "source": [
    "print len(Y_test[Y_test!=0])\n",
    "print len(Y_test)\n",
    "print np.float64(len(Y_test[Y_test!=0]))/len(Y_test)\n",
    "print\n",
    "print len(Y_pred[Y_pred!=0])\n",
    "print len(Y_pred)\n",
    "print np.float64(len(Y_pred[Y_pred!=0]))/len(Y_pred)\n",
    "\n",
    "from sklearn.metrics import accuracy_score, log_loss, roc_auc_score\n",
    "\n",
    "print\n",
    "print 'accuracy : ' + str(accuracy_score(Y_test,Y_pred))\n"
   ]
  },
  {
   "cell_type": "markdown",
   "metadata": {},
   "source": [
    "# 2. VS BENCHMARK"
   ]
  },
  {
   "cell_type": "code",
   "execution_count": 64,
   "metadata": {
    "collapsed": true
   },
   "outputs": [],
   "source": [
    "# visual_check(df_backtest)"
   ]
  },
  {
   "cell_type": "code",
   "execution_count": 73,
   "metadata": {},
   "outputs": [
    {
     "name": "stdout",
     "output_type": "stream",
     "text": [
      "\n",
      "['AI', 'BNP', 'SU', 'FP', 'OR', 'BN', 'DG', 'VIE', 'GLE', 'MC', 'AIR', 'VIV']\n"
     ]
    }
   ],
   "source": [
    "pf = build_portfolio(df_backtest)"
   ]
  },
  {
   "cell_type": "code",
   "execution_count": 74,
   "metadata": {},
   "outputs": [],
   "source": [
    "# PORTFOLIO EVOLUTION\n",
    "allocation = pf.iloc[0,:]/pf.iloc[0,:].sum()\n",
    "funds = 1000\n",
    "evo = portfolio_evolution(allocation,funds,pf)"
   ]
  },
  {
   "cell_type": "code",
   "execution_count": 75,
   "metadata": {},
   "outputs": [],
   "source": [
    "# on ajoute le CAC\n",
    "cac = pd.read_csv('/Users/edouardcuny/Desktop/quant/Carmela/CAC40.csv',index_col='Date',dtype={'Adj Close': np.float64},na_values=['null',0])\n",
    "evo = evo.join(cac['Adj Close'], rsuffix = 'CAC40')\n",
    "evo.iloc[:,-1]=evo.iloc[:,-1]/evo.iloc[0,-1]*1000"
   ]
  },
  {
   "cell_type": "code",
   "execution_count": 79,
   "metadata": {},
   "outputs": [
    {
     "data": {
      "image/png": "[encoded data removed]",
      "text/plain": [
       "<matplotlib.figure.Figure at 0x11b540150>"
      ]
     },
     "metadata": {},
     "output_type": "display_data"
    }
   ],
   "source": [
    "# plot\n",
    "evo['TOTAL'].plot(label='buy & hold')\n",
    "evo['Adj CloseCAC40'].plot(label='CAC40')\n",
    "plt.legend()\n",
    "axes = plt.gca()\n",
    "axes.set_ylim([0,2000])\n",
    "plt.show()"
   ]
  },
  {
   "cell_type": "markdown",
   "metadata": {},
   "source": [
    "\n",
    "## Why does blue overperform orange ?\n",
    "\n",
    "- **survivor bias** : I only stocks that were in the CAC40 today so all the companies that left it : EDF, Alstom, Klépierre, Gemalto, Vallourec are not taken into account and typically saw their value diminish or not grow as strongly as others.\n",
    "\n",
    "- luck - we took the strongest companies of the CAC40, maybe we just had luck"
   ]
  },
  {
   "cell_type": "code",
   "execution_count": null,
   "metadata": {
    "collapsed": true
   },
   "outputs": [],
   "source": []
  }
 ],
 "metadata": {
  "kernelspec": {
   "display_name": "Python 2",
   "language": "python",
   "name": "python2"
  },
  "language_info": {
   "codemirror_mode": {
    "name": "ipython",
    "version": 2
   },
   "file_extension": ".py",
   "mimetype": "text/x-python",
   "name": "python",
   "nbconvert_exporter": "python",
   "pygments_lexer": "ipython2",
   "version": "2.7.10"
  }
 },
 "nbformat": 4,
 "nbformat_minor": 2
}
