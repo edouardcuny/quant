{
 "cells": [
  {
   "cell_type": "code",
   "execution_count": 1,
   "metadata": {},
   "outputs": [
    {
     "name": "stdout",
     "output_type": "stream",
     "text": [
      "Populating the interactive namespace from numpy and matplotlib\n"
     ]
    }
   ],
   "source": [
    "import pandas as pd\n",
    "import numpy as np\n",
    "import matplotlib.pyplot as plt\n",
    "import matplotlib\n",
    "\n",
    "# setting plot size\n",
    "%pylab inline\n",
    "pylab.rcParams['figure.figsize'] = (16, 9)"
   ]
  },
  {
   "cell_type": "code",
   "execution_count": 2,
   "metadata": {
    "collapsed": true
   },
   "outputs": [],
   "source": [
    "%run ./feature_engineering.py\n",
    "%run ./utils.py\n",
    "%run ./portfolio.py\n",
    "%run ./perf.py"
   ]
  },
  {
   "cell_type": "markdown",
   "metadata": {},
   "source": [
    "# 1. ALL DATA"
   ]
  },
  {
   "cell_type": "markdown",
   "metadata": {},
   "source": [
    "## 1.0. IMPORTING/CLEANING DATA"
   ]
  },
  {
   "cell_type": "markdown",
   "metadata": {},
   "source": [
    "Importing data from the data folder."
   ]
  },
  {
   "cell_type": "code",
   "execution_count": 3,
   "metadata": {},
   "outputs": [
    {
     "name": "stdout",
     "output_type": "stream",
     "text": [
      "AC - dropped NA : 4653 >> 4613\n",
      "ACA - dropped NA : 4144 >> 4120\n",
      "AI - dropped NA : 4653 >> 4616\n",
      "AIR - dropped NA : 4218 >> 4187\n",
      "ATO - dropped NA : 4653 >> 4614\n",
      "BN - dropped NA : 7513 >> 6585\n",
      "BNP - dropped NA : 6273 >> 5773\n",
      "CA - dropped NA : 4653 >> 4616\n"
     ]
    },
    {
     "name": "stderr",
     "output_type": "stream",
     "text": [
      "/Users/edouardcuny/Desktop/quant/Carmela/feature_engineering.py:253: RuntimeWarning: Mean of empty slice.\n",
      "  fup = lambda x : x[x>0].mean()\n"
     ]
    },
    {
     "name": "stdout",
     "output_type": "stream",
     "text": [
      "CAP - dropped NA : 4653 >> 4608\n",
      "DG - dropped NA : 4653 >> 4613\n",
      "EI - dropped NA : 4653 >> 4600\n"
     ]
    },
    {
     "name": "stderr",
     "output_type": "stream",
     "text": [
      "/Users/edouardcuny/Desktop/quant/Carmela/feature_engineering.py:254: RuntimeWarning: Mean of empty slice.\n",
      "  fdown = lambda x : np.abs(x[x<0].mean())\n"
     ]
    },
    {
     "name": "stdout",
     "output_type": "stream",
     "text": [
      "EN - dropped NA : 6998 >> 6625\n",
      "ENGI - dropped NA : 4653 >> 4447\n",
      "FP - dropped NA : 4653 >> 4613\n",
      "FR - dropped NA : 4652 >> 2231\n",
      "GLE - dropped NA : 4653 >> 4615\n",
      "KER - dropped NA : 4653 >> 4483\n",
      "LHN - dropped NA : 656 >> 656\n",
      "LR - dropped NA : 3019 >> 3016\n",
      "MC - dropped NA : 4653 >> 4609\n",
      "ML - dropped NA : 4653 >> 4615\n",
      "OR - dropped NA : 4653 >> 4610\n",
      "ORA - dropped NA : 4653 >> 4615\n",
      "SAN - dropped NA : 4653 >> 4607\n",
      "SGO - dropped NA : 4642 >> 3805\n",
      "SU - dropped NA : 4653 >> 4614\n",
      "SW - dropped NA : 22 >> 22\n",
      "UG - dropped NA : 4653 >> 4610\n",
      "VIE - dropped NA : 4510 >> 4471\n",
      "VIV - dropped NA : 4653 >> 4614\n"
     ]
    }
   ],
   "source": [
    "import os\n",
    "\n",
    "start = time.time()\n",
    "\n",
    "# get the list of all the files in the data folder\n",
    "tickers = os.listdir(\"/Users/edouardcuny/Desktop/quant/Carmela/data2/\")\n",
    "l = []\n",
    "# iterate through the files and build those who have csv in their name\n",
    "for ticker in tickers:\n",
    "    if 'csv' in ticker:\n",
    "        df = build_df(ticker)\n",
    "        l.append(df)"
   ]
  },
  {
   "cell_type": "markdown",
   "metadata": {},
   "source": [
    "Conctenating and cleaning the data."
   ]
  },
  {
   "cell_type": "code",
   "execution_count": 4,
   "metadata": {},
   "outputs": [
    {
     "name": "stdout",
     "output_type": "stream",
     "text": [
      "\n",
      "temps de création du DataFrame : 84.0\n"
     ]
    }
   ],
   "source": [
    "# concatenation\n",
    "df = pd.concat(l, axis=0)\n",
    "# df.to_csv(\"/Users/edouardcuny/Desktop/stocks.csv\") \n",
    "\n",
    "# removing rows w/ infinite \n",
    "df.replace([np.inf, -np.inf], np.nan,inplace=True)\n",
    "\n",
    "# removing rows w/ NaN \n",
    "df.dropna(inplace=True)\n",
    "\n",
    "stop = time.time()\n",
    "print\n",
    "print 'temps de création du DataFrame : ' + str(round(stop - start))"
   ]
  },
  {
   "cell_type": "markdown",
   "metadata": {},
   "source": [
    "## 1.1. ML"
   ]
  },
  {
   "cell_type": "markdown",
   "metadata": {},
   "source": [
    "- Splitting Train & Test \n",
    "- We also do a copy of X_test for the backtesting. Basically for the backtesting we need a DataFrame on which we can do the ML (same columns as X_Train + same rescaling) and also a column with the Ticker and a column with the Adjusted Close. The easiest way to do so is to take X_test before we delete the Ticker and Adjusted Close columns."
   ]
  },
  {
   "cell_type": "code",
   "execution_count": 62,
   "metadata": {},
   "outputs": [
    {
     "name": "stdout",
     "output_type": "stream",
     "text": [
      "dropped extreme values : 126954 >> 126954\n",
      "dropped NA : 126954 >> 126954\n"
     ]
    }
   ],
   "source": [
    "X_train,X_test,Y_train,Y_test = split_train_test(df,date=\"2014-12-31\")\n",
    "\n",
    "# useful later \n",
    "df_backtest = X_test.copy()"
   ]
  },
  {
   "cell_type": "markdown",
   "metadata": {},
   "source": [
    "We drop useless columns for machine learning."
   ]
  },
  {
   "cell_type": "code",
   "execution_count": 63,
   "metadata": {
    "collapsed": true
   },
   "outputs": [],
   "source": [
    "to_drop = []\n",
    "to_drop.append('rolling_mean')\n",
    "to_drop.append('Adj Close')\n",
    "to_drop.append('vol_rolling_mean')\n",
    "to_drop.append('Ticker')\n",
    "\n",
    "X_train.drop(to_drop,axis=1,inplace=True)\n",
    "X_test.drop(to_drop,axis=1,inplace=True)"
   ]
  },
  {
   "cell_type": "markdown",
   "metadata": {},
   "source": [
    "- import the model from sklearn\n",
    "- train\n",
    "- predict on X_test"
   ]
  },
  {
   "cell_type": "code",
   "execution_count": 64,
   "metadata": {
    "collapsed": true
   },
   "outputs": [],
   "source": [
    "from sklearn.ensemble import RandomForestClassifier\n",
    "clf = RandomForestClassifier(random_state=7)\n",
    "clf.fit(X_train,Y_train)\n",
    "Y_pred = pd.Series(clf.predict(X_test))\n",
    "Y_pred.index = Y_test.index"
   ]
  },
  {
   "cell_type": "markdown",
   "metadata": {},
   "source": [
    "## 1.2. RESULTS"
   ]
  },
  {
   "cell_type": "code",
   "execution_count": 65,
   "metadata": {},
   "outputs": [
    {
     "name": "stdout",
     "output_type": "stream",
     "text": [
      "accuracy : 0.434691696483\n"
     ]
    }
   ],
   "source": [
    "# print len(Y_test[Y_test!=0])\n",
    "# print len(Y_test)\n",
    "# print np.float64(len(Y_test[Y_test!=0]))/len(Y_test)\n",
    "# print\n",
    "# print len(Y_pred[Y_pred!=0])\n",
    "# print len(Y_pred)\n",
    "# print np.float64(len(Y_pred[Y_pred!=0]))/len(Y_pred)\n",
    "\n",
    "from sklearn.metrics import accuracy_score, log_loss, roc_auc_score\n",
    "\n",
    "# print\n",
    "print 'accuracy : ' + str(accuracy_score(Y_test,Y_pred))\n"
   ]
  },
  {
   "cell_type": "markdown",
   "metadata": {},
   "source": [
    "# 2. VS BENCHMARK"
   ]
  },
  {
   "cell_type": "markdown",
   "metadata": {},
   "source": [
    "visual check that the stocks we chose on the period do not have anything too strange (like Sanofi for instance where there are very important spikes)"
   ]
  },
  {
   "cell_type": "code",
   "execution_count": 66,
   "metadata": {
    "collapsed": true
   },
   "outputs": [],
   "source": [
    "# visual_check(df_backtest)"
   ]
  },
  {
   "cell_type": "markdown",
   "metadata": {},
   "source": [
    "- we remove all the info about the stocks that we didn't select\n",
    "- pf has one column per ticker and adj close as rows"
   ]
  },
  {
   "cell_type": "code",
   "execution_count": 67,
   "metadata": {},
   "outputs": [
    {
     "name": "stdout",
     "output_type": "stream",
     "text": [
      "\n",
      "['AI', 'SU', 'FP', 'BNP', 'DG', 'OR', 'VIE', 'BN', 'GLE', 'MC', 'VIV', 'AIR']\n"
     ]
    }
   ],
   "source": [
    "pf = build_portfolio(df_backtest)"
   ]
  },
  {
   "cell_type": "markdown",
   "metadata": {},
   "source": [
    "We are going to compare our algorithm to :\n",
    "- BHW : a strategy where we buy each stock on our list on day one w/ the same weight as their adjusted close and we hold\n",
    "- BHNW : a strategy where we buy each stock on our list w/ no weights\n",
    "- CAC40"
   ]
  },
  {
   "cell_type": "code",
   "execution_count": 79,
   "metadata": {
    "collapsed": true
   },
   "outputs": [],
   "source": [
    "# BUY & HOLD WEIGHTS\n",
    "allocation = pf.iloc[0,:]/pf.iloc[0,:].sum()\n",
    "funds = 1000\n",
    "bhw = portfolio_evolution(allocation,funds,pf)\n",
    "\n",
    "# BUY & HOLD NO WEIGHTS\n",
    "alloc = 1./pf.shape[1]*np.ones([pf.shape[0],pf.shape[1]])\n",
    "bhnw = portfolio_evo_moving_alloc(alloc,1000,pf)"
   ]
  },
  {
   "cell_type": "code",
   "execution_count": 80,
   "metadata": {},
   "outputs": [
    {
     "name": "stdout",
     "output_type": "stream",
     "text": [
      "\n",
      "['AI', 'SU', 'FP', 'BNP', 'DG', 'OR', 'VIE', 'BN', 'GLE', 'MC', 'VIV', 'AIR']\n"
     ]
    },
    {
     "data": {
      "text/plain": [
       "<matplotlib.figure.Figure at 0x11a96f490>"
      ]
     },
     "metadata": {},
     "output_type": "display_data"
    }
   ],
   "source": [
    "%run ./portfolio.py\n",
    "# CARMELA\n",
    "df_backtest['pred'] = Y_pred\n",
    "pred = build_pred(df_backtest)\n",
    "alloc = build_alloc(pred)\n",
    "carm = portfolio_evo_moving_alloc(alloc,1000,pf)"
   ]
  },
  {
   "cell_type": "code",
   "execution_count": 81,
   "metadata": {
    "collapsed": true
   },
   "outputs": [],
   "source": [
    "# CAC40\n",
    "cac = pd.read_csv('/Users/edouardcuny/Desktop/quant/Carmela/CAC40.csv',index_col='Date',dtype={'Adj Close': np.float64},na_values=['null',0])\n",
    "cac.dropna(inplace=True)\n",
    "bhw = bhw.join(cac['Adj Close'], rsuffix = 'CAC40')\n",
    "bhw.iloc[:,-1]=bhw.iloc[:,-1]/bhw.iloc[0,-1]*1000"
   ]
  },
  {
   "cell_type": "code",
   "execution_count": 82,
   "metadata": {},
   "outputs": [
    {
     "data": {
      "image/png": "[encoded data removed]",
      "text/plain": [
       "<matplotlib.figure.Figure at 0x119aeeb90>"
      ]
     },
     "metadata": {},
     "output_type": "display_data"
    }
   ],
   "source": [
    "# plot\n",
    "bhw['TOTAL'].plot(label='BUY & HOLD - WEIGHTS')\n",
    "bhw['Adj CloseCAC40'].plot(label='CAC40')\n",
    "bhnw['TOTAL'].plot(label='BUY & HOLD - NO WEIGHTS')\n",
    "carm['TOTAL'].plot(label='CARMELA')\n",
    "plt.legend()\n",
    "axes = plt.gca()\n",
    "axes.set_ylim([0,2000])\n",
    "plt.show()"
   ]
  },
  {
   "cell_type": "markdown",
   "metadata": {},
   "source": [
    "# 3. EVALUATING THE PERFORMANCE"
   ]
  },
  {
   "cell_type": "code",
   "execution_count": 84,
   "metadata": {},
   "outputs": [
    {
     "name": "stdout",
     "output_type": "stream",
     "text": [
      "SHARPE\n",
      "CARMELA :  0.881\n",
      "BHNW    :  0.939\n",
      "BHW     :  0.892\n",
      "CAC     :  0.525\n",
      "\n",
      "MONTHLY MAX DRAWDOWN\n",
      "CARMELA :  -20.28 %\n",
      "BHNW    :  -15.74 %\n",
      "BHW     :  -16.86 %\n",
      "CAC     :  -15.65 %\n",
      "\n",
      "ANNUAL RETURN\n",
      "\n",
      "CARMELA\n",
      "2015 39%\n",
      "2016 5%\n",
      "2017 18%\n",
      "2018 5%\n",
      "\n",
      "BHNW   \n",
      "2015 19%\n",
      "2016 15%\n",
      "2017 18%\n",
      "2018 5%\n",
      "\n",
      "BHW     \n",
      "2015 16%\n",
      "2016 18%\n",
      "2017 18%\n",
      "2018 4%\n",
      "\n",
      "CAC     \n",
      "2015 10%\n",
      "2016 8%\n",
      "2017 9%\n",
      "2018 5%\n",
      "\n"
     ]
    }
   ],
   "source": [
    "print 'SHARPE'\n",
    "print 'CARMELA : ', sharpe(carm['TOTAL'])\n",
    "print 'BHNW    : ', sharpe(bhnw['TOTAL'])\n",
    "print 'BHW     : ', sharpe(bhw['TOTAL'])\n",
    "print 'CAC     : ', sharpe(bhw['Adj CloseCAC40'])\n",
    "\n",
    "print \n",
    "print 'MONTHLY MAX DRAWDOWN'\n",
    "print 'CARMELA : ', rolling_max_drawdown(carm['TOTAL'],20),'%'\n",
    "print 'BHNW    : ', rolling_max_drawdown(bhnw['TOTAL'],20),'%'\n",
    "print 'BHW     : ', rolling_max_drawdown(bhw['TOTAL'],20),'%'\n",
    "print 'CAC     : ', rolling_max_drawdown(bhw['Adj CloseCAC40'],20),'%'\n",
    "\n",
    "print \n",
    "print 'ANNUAL RETURN'\n",
    "print \n",
    "print 'CARMELA'\n",
    "print_d(annual_return(carm['TOTAL']))\n",
    "print 'BHNW   '\n",
    "print_d(annual_return(bhnw['TOTAL']))\n",
    "print 'BHW     '\n",
    "print_d(annual_return(bhw['TOTAL']))\n",
    "print 'CAC     '\n",
    "print_d(annual_return(bhw['Adj CloseCAC40']))\n"
   ]
  },
  {
   "cell_type": "code",
   "execution_count": 5,
   "metadata": {},
   "outputs": [
    {
     "data": {
      "text/html": [
       "<div>\n",
       "<style>\n",
       "    .dataframe thead tr:only-child th {\n",
       "        text-align: right;\n",
       "    }\n",
       "\n",
       "    .dataframe thead th {\n",
       "        text-align: left;\n",
       "    }\n",
       "\n",
       "    .dataframe tbody tr th {\n",
       "        vertical-align: top;\n",
       "    }\n",
       "</style>\n",
       "<table border=\"1\" class=\"dataframe\">\n",
       "  <thead>\n",
       "    <tr style=\"text-align: right;\">\n",
       "      <th></th>\n",
       "      <th>Ticker</th>\n",
       "      <th>Adj Close</th>\n",
       "      <th>in_BB</th>\n",
       "      <th>pr_in_BB</th>\n",
       "      <th>out_to_in_BB</th>\n",
       "      <th>rolling_mean</th>\n",
       "      <th>spike</th>\n",
       "      <th>pr_spike</th>\n",
       "      <th>spike_derivative</th>\n",
       "      <th>crossed_RM_up</th>\n",
       "      <th>...</th>\n",
       "      <th>macad</th>\n",
       "      <th>pr_macad</th>\n",
       "      <th>macad_derivative</th>\n",
       "      <th>Kfast</th>\n",
       "      <th>Dfast</th>\n",
       "      <th>Dslow</th>\n",
       "      <th>LWR</th>\n",
       "      <th>CMF</th>\n",
       "      <th>SMI</th>\n",
       "      <th>y</th>\n",
       "    </tr>\n",
       "    <tr>\n",
       "      <th>Date</th>\n",
       "      <th></th>\n",
       "      <th></th>\n",
       "      <th></th>\n",
       "      <th></th>\n",
       "      <th></th>\n",
       "      <th></th>\n",
       "      <th></th>\n",
       "      <th></th>\n",
       "      <th></th>\n",
       "      <th></th>\n",
       "      <th></th>\n",
       "      <th></th>\n",
       "      <th></th>\n",
       "      <th></th>\n",
       "      <th></th>\n",
       "      <th></th>\n",
       "      <th></th>\n",
       "      <th></th>\n",
       "      <th></th>\n",
       "      <th></th>\n",
       "      <th></th>\n",
       "    </tr>\n",
       "  </thead>\n",
       "  <tbody>\n",
       "    <tr>\n",
       "      <th>2000-02-08</th>\n",
       "      <td>AC</td>\n",
       "      <td>4.239109</td>\n",
       "      <td>1.0</td>\n",
       "      <td>1.0</td>\n",
       "      <td>0.0</td>\n",
       "      <td>4.461310</td>\n",
       "      <td>0.950194</td>\n",
       "      <td>0.949293</td>\n",
       "      <td>0.000901</td>\n",
       "      <td>0.0</td>\n",
       "      <td>...</td>\n",
       "      <td>0.031507</td>\n",
       "      <td>0.025933</td>\n",
       "      <td>0.005574</td>\n",
       "      <td>6.896759</td>\n",
       "      <td>6.535668</td>\n",
       "      <td>8.803374</td>\n",
       "      <td>93.103241</td>\n",
       "      <td>-0.453209</td>\n",
       "      <td>-38.991367</td>\n",
       "      <td>1.0</td>\n",
       "    </tr>\n",
       "    <tr>\n",
       "      <th>2000-02-09</th>\n",
       "      <td>AC</td>\n",
       "      <td>4.519144</td>\n",
       "      <td>1.0</td>\n",
       "      <td>1.0</td>\n",
       "      <td>0.0</td>\n",
       "      <td>4.464604</td>\n",
       "      <td>1.012216</td>\n",
       "      <td>0.950194</td>\n",
       "      <td>0.062022</td>\n",
       "      <td>1.0</td>\n",
       "      <td>...</td>\n",
       "      <td>0.033084</td>\n",
       "      <td>0.031507</td>\n",
       "      <td>0.001577</td>\n",
       "      <td>54.628800</td>\n",
       "      <td>23.609008</td>\n",
       "      <td>12.427154</td>\n",
       "      <td>45.371200</td>\n",
       "      <td>-0.397813</td>\n",
       "      <td>-38.716805</td>\n",
       "      <td>-1.0</td>\n",
       "    </tr>\n",
       "    <tr>\n",
       "      <th>2000-02-10</th>\n",
       "      <td>AC</td>\n",
       "      <td>4.814561</td>\n",
       "      <td>1.0</td>\n",
       "      <td>1.0</td>\n",
       "      <td>0.0</td>\n",
       "      <td>4.495445</td>\n",
       "      <td>1.070986</td>\n",
       "      <td>1.012216</td>\n",
       "      <td>0.058770</td>\n",
       "      <td>0.0</td>\n",
       "      <td>...</td>\n",
       "      <td>0.007907</td>\n",
       "      <td>0.033084</td>\n",
       "      <td>-0.025176</td>\n",
       "      <td>98.085039</td>\n",
       "      <td>53.203533</td>\n",
       "      <td>27.782736</td>\n",
       "      <td>1.914961</td>\n",
       "      <td>-0.292978</td>\n",
       "      <td>-38.569207</td>\n",
       "      <td>-1.0</td>\n",
       "    </tr>\n",
       "    <tr>\n",
       "      <th>2000-02-11</th>\n",
       "      <td>AC</td>\n",
       "      <td>4.777222</td>\n",
       "      <td>1.0</td>\n",
       "      <td>1.0</td>\n",
       "      <td>0.0</td>\n",
       "      <td>4.519057</td>\n",
       "      <td>1.057128</td>\n",
       "      <td>1.070986</td>\n",
       "      <td>-0.013858</td>\n",
       "      <td>0.0</td>\n",
       "      <td>...</td>\n",
       "      <td>-0.033963</td>\n",
       "      <td>0.007907</td>\n",
       "      <td>-0.041870</td>\n",
       "      <td>92.172174</td>\n",
       "      <td>81.628671</td>\n",
       "      <td>52.813737</td>\n",
       "      <td>7.827826</td>\n",
       "      <td>-0.274165</td>\n",
       "      <td>-37.912713</td>\n",
       "      <td>-1.0</td>\n",
       "    </tr>\n",
       "    <tr>\n",
       "      <th>2000-02-14</th>\n",
       "      <td>AC</td>\n",
       "      <td>4.722322</td>\n",
       "      <td>1.0</td>\n",
       "      <td>1.0</td>\n",
       "      <td>0.0</td>\n",
       "      <td>4.543767</td>\n",
       "      <td>1.039297</td>\n",
       "      <td>1.057128</td>\n",
       "      <td>-0.017831</td>\n",
       "      <td>0.0</td>\n",
       "      <td>...</td>\n",
       "      <td>-0.057479</td>\n",
       "      <td>-0.033963</td>\n",
       "      <td>-0.023517</td>\n",
       "      <td>82.903238</td>\n",
       "      <td>91.053484</td>\n",
       "      <td>75.295229</td>\n",
       "      <td>17.096762</td>\n",
       "      <td>-0.271661</td>\n",
       "      <td>-36.244834</td>\n",
       "      <td>-1.0</td>\n",
       "    </tr>\n",
       "  </tbody>\n",
       "</table>\n",
       "<p>5 rows × 50 columns</p>\n",
       "</div>"
      ],
      "text/plain": [
       "           Ticker  Adj Close  in_BB  pr_in_BB  out_to_in_BB  rolling_mean  \\\n",
       "Date                                                                        \n",
       "2000-02-08     AC   4.239109    1.0       1.0           0.0      4.461310   \n",
       "2000-02-09     AC   4.519144    1.0       1.0           0.0      4.464604   \n",
       "2000-02-10     AC   4.814561    1.0       1.0           0.0      4.495445   \n",
       "2000-02-11     AC   4.777222    1.0       1.0           0.0      4.519057   \n",
       "2000-02-14     AC   4.722322    1.0       1.0           0.0      4.543767   \n",
       "\n",
       "               spike  pr_spike  spike_derivative  crossed_RM_up ...   \\\n",
       "Date                                                            ...    \n",
       "2000-02-08  0.950194  0.949293          0.000901            0.0 ...    \n",
       "2000-02-09  1.012216  0.950194          0.062022            1.0 ...    \n",
       "2000-02-10  1.070986  1.012216          0.058770            0.0 ...    \n",
       "2000-02-11  1.057128  1.070986         -0.013858            0.0 ...    \n",
       "2000-02-14  1.039297  1.057128         -0.017831            0.0 ...    \n",
       "\n",
       "               macad  pr_macad  macad_derivative      Kfast      Dfast  \\\n",
       "Date                                                                     \n",
       "2000-02-08  0.031507  0.025933          0.005574   6.896759   6.535668   \n",
       "2000-02-09  0.033084  0.031507          0.001577  54.628800  23.609008   \n",
       "2000-02-10  0.007907  0.033084         -0.025176  98.085039  53.203533   \n",
       "2000-02-11 -0.033963  0.007907         -0.041870  92.172174  81.628671   \n",
       "2000-02-14 -0.057479 -0.033963         -0.023517  82.903238  91.053484   \n",
       "\n",
       "                Dslow        LWR       CMF        SMI    y  \n",
       "Date                                                        \n",
       "2000-02-08   8.803374  93.103241 -0.453209 -38.991367  1.0  \n",
       "2000-02-09  12.427154  45.371200 -0.397813 -38.716805 -1.0  \n",
       "2000-02-10  27.782736   1.914961 -0.292978 -38.569207 -1.0  \n",
       "2000-02-11  52.813737   7.827826 -0.274165 -37.912713 -1.0  \n",
       "2000-02-14  75.295229  17.096762 -0.271661 -36.244834 -1.0  \n",
       "\n",
       "[5 rows x 50 columns]"
      ]
     },
     "execution_count": 5,
     "metadata": {},
     "output_type": "execute_result"
    }
   ],
   "source": [
    "df.head()"
   ]
  },
  {
   "cell_type": "code",
   "execution_count": null,
   "metadata": {
    "collapsed": true
   },
   "outputs": [],
   "source": []
  }
 ],
 "metadata": {
  "kernelspec": {
   "display_name": "Python 2",
   "language": "python",
   "name": "python2"
  },
  "language_info": {
   "codemirror_mode": {
    "name": "ipython",
    "version": 2
   },
   "file_extension": ".py",
   "mimetype": "text/x-python",
   "name": "python",
   "nbconvert_exporter": "python",
   "pygments_lexer": "ipython2",
   "version": "2.7.10"
  }
 },
 "nbformat": 4,
 "nbformat_minor": 2
}
