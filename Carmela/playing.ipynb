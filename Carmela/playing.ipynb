{
 "cells": [
  {
   "cell_type": "code",
   "execution_count": null,
   "metadata": {},
   "outputs": [],
   "source": [
    "import pandas as pd\n",
    "import numpy as np\n",
    "import matplotlib.pyplot as plt\n",
    "import matplotlib\n",
    "\n",
    "# setting plot size\n",
    "%pylab inline\n",
    "pylab.rcParams['figure.figsize'] = (16, 9)"
   ]
  },
  {
   "cell_type": "code",
   "execution_count": 2,
   "metadata": {
    "collapsed": true
   },
   "outputs": [],
   "source": [
    "%run ./feature_engineering.py\n",
    "%run ./utils.py"
   ]
  },
  {
   "cell_type": "markdown",
   "metadata": {},
   "source": [
    "# 1. ALL DATA"
   ]
  },
  {
   "cell_type": "markdown",
   "metadata": {},
   "source": [
    "## 1.0. IMPORTING/CLEANING DATA"
   ]
  },
  {
   "cell_type": "code",
   "execution_count": 3,
   "metadata": {},
   "outputs": [
    {
     "name": "stdout",
     "output_type": "stream",
     "text": [
      "dropped NA : 4653 >> 4613\n",
      "dropped NA : 4144 >> 4120\n",
      "dropped NA : 4653 >> 4616\n",
      "dropped NA : 4218 >> 4187\n",
      "dropped NA : 4653 >> 4614\n",
      "dropped NA : 7513 >> 6585\n",
      "dropped NA : 6273 >> 5773\n",
      "dropped NA : 4653 >> 4616\n"
     ]
    },
    {
     "name": "stderr",
     "output_type": "stream",
     "text": [
      "/Users/edouardcuny/Desktop/quant/Carmela/feature_engineering.py:253: RuntimeWarning: Mean of empty slice.\n",
      "  fup = lambda x : x[x>0].mean()\n"
     ]
    },
    {
     "name": "stdout",
     "output_type": "stream",
     "text": [
      "dropped NA : 4653 >> 4608\n",
      "dropped NA : 4653 >> 4613\n",
      "dropped NA : 4653 >> 4600\n"
     ]
    },
    {
     "name": "stderr",
     "output_type": "stream",
     "text": [
      "/Users/edouardcuny/Desktop/quant/Carmela/feature_engineering.py:254: RuntimeWarning: Mean of empty slice.\n",
      "  fdown = lambda x : np.abs(x[x<0].mean())\n"
     ]
    },
    {
     "name": "stdout",
     "output_type": "stream",
     "text": [
      "dropped NA : 6998 >> 6625\n",
      "dropped NA : 4653 >> 4447\n",
      "dropped NA : 4653 >> 4613\n",
      "dropped NA : 4652 >> 2231\n",
      "dropped NA : 4653 >> 4615\n",
      "dropped NA : 4653 >> 4483\n",
      "dropped NA : 656 >> 656\n",
      "dropped NA : 3019 >> 3016\n",
      "dropped NA : 4653 >> 4609\n",
      "dropped NA : 4653 >> 4615\n",
      "dropped NA : 4653 >> 4610\n",
      "dropped NA : 4653 >> 4615\n",
      "dropped NA : 4653 >> 4607\n",
      "dropped NA : 4642 >> 3805\n",
      "dropped NA : 4653 >> 4614\n",
      "dropped NA : 22 >> 22\n",
      "dropped NA : 4653 >> 4610\n",
      "dropped NA : 4510 >> 4471\n",
      "dropped NA : 4653 >> 4614\n",
      "72.4118528366\n"
     ]
    }
   ],
   "source": [
    "import time\n",
    "start = time.time()\n",
    "# i want the list of the files from there \n",
    "import os\n",
    "tickers = os.listdir(\"/Users/edouardcuny/Desktop/quant/Carmela/data2/\")\n",
    "l = []\n",
    "for ticker in tickers:\n",
    "    if 'csv' in ticker:\n",
    "        df = build_df(ticker)\n",
    "        df.drop(df.columns[0], axis=1,inplace=True)\n",
    "        l.append(df)\n",
    "\n",
    "df = pd.concat(l, axis=0)\n",
    "# df.to_csv(\"/Users/edouardcuny/Desktop/stocks.csv\")\n",
    "\n",
    "# removing rows w/ infinite\n",
    "df.replace([np.inf, -np.inf], np.nan,inplace=True)\n",
    "\n",
    "# removing rows w/ NaN i.e. first rows and last rows based on window_size\n",
    "df.dropna(inplace=True)\n",
    "\n",
    "stop = time.time()\n",
    "print 'temps de création du DataFrame : ' + str(round(stop - start))"
   ]
  },
  {
   "cell_type": "markdown",
   "metadata": {},
   "source": [
    "## 1.1. ML"
   ]
  },
  {
   "cell_type": "code",
   "execution_count": 4,
   "metadata": {},
   "outputs": [
    {
     "name": "stdout",
     "output_type": "stream",
     "text": [
      "dropped extreme values : 126954 >> 107402\n",
      "dropped NA : 107402 >> 107402\n"
     ]
    },
    {
     "name": "stderr",
     "output_type": "stream",
     "text": [
      "/Users/edouardcuny/.pyenv/versions/2.7.10/envs/ml/lib/python2.7/site-packages/pandas/core/indexing.py:601: SettingWithCopyWarning: \n",
      "A value is trying to be set on a copy of a slice from a DataFrame.\n",
      "Try using .loc[row_indexer,col_indexer] = value instead\n",
      "\n",
      "See the caveats in the documentation: http://pandas.pydata.org/pandas-docs/stable/indexing.html#indexing-view-versus-copy\n",
      "  self.obj[item_labels[indexer[info_axis]]] = value\n"
     ]
    }
   ],
   "source": [
    "X_train,X_test,Y_train,Y_test = split_train_test(df,date=\"2012-12-31\")"
   ]
  },
  {
   "cell_type": "code",
   "execution_count": 5,
   "metadata": {},
   "outputs": [
    {
     "name": "stdout",
     "output_type": "stream",
     "text": [
      "(78369, 43)\n",
      "(29033, 43)\n",
      "(78369,)\n",
      "(29033,)\n"
     ]
    }
   ],
   "source": [
    "print X_train.shape\n",
    "print X_test.shape\n",
    "print Y_train.shape\n",
    "print Y_test.shape"
   ]
  },
  {
   "cell_type": "code",
   "execution_count": 15,
   "metadata": {},
   "outputs": [],
   "source": [
    "from sklearn.ensemble import RandomForestClassifier\n",
    "clf = RandomForestClassifier()\n",
    "clf.fit(X_train,Y_train)\n",
    "Y_pred = pd.Series(clf.predict(X_test))\n",
    "Y_pred.index = Y_test.index"
   ]
  },
  {
   "cell_type": "code",
   "execution_count": 16,
   "metadata": {},
   "outputs": [
    {
     "name": "stdout",
     "output_type": "stream",
     "text": [
      "14395\n",
      "29033\n",
      "0.495815106947\n",
      "\n",
      "11329\n",
      "29033\n",
      "0.390211139049\n"
     ]
    }
   ],
   "source": [
    "print len(Y_test[Y_test!=0])\n",
    "print len(Y_test)\n",
    "print np.float64(len(Y_test[Y_test!=0]))/len(Y_test)\n",
    "print\n",
    "print len(Y_pred[Y_pred!=0])\n",
    "print len(Y_pred)\n",
    "print np.float64(len(Y_pred[Y_pred!=0]))/len(Y_pred)\n"
   ]
  }
 ],
 "metadata": {
  "kernelspec": {
   "display_name": "Python 2",
   "language": "python",
   "name": "python2"
  },
  "language_info": {
   "codemirror_mode": {
    "name": "ipython",
    "version": 2
   },
   "file_extension": ".py",
   "mimetype": "text/x-python",
   "name": "python",
   "nbconvert_exporter": "python",
   "pygments_lexer": "ipython2",
   "version": "2.7.10"
  }
 },
 "nbformat": 4,
 "nbformat_minor": 2
}
